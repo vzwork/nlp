{
 "cells": [
  {
   "attachments": {},
   "cell_type": "markdown",
   "metadata": {},
   "source": [
    "# Project Goal\n",
    "We are given a file with Twitter comments. Those comments are marked as positive/negative. We need to build a NLP model that will be able to predict the \"toxicity\" of comments with a minimum of 0.75 F1 Score."
   ]
  },
  {
   "attachments": {},
   "cell_type": "markdown",
   "metadata": {},
   "source": [
    "# Project Plan\n",
    "1. Project Goal\n",
    "2. Project Plan\n",
    "3. Libraries / Data Load\n",
    "4. Exploratory Analysis\n",
    "5. Data Preprocessing \n",
    "6. Base Model\n",
    "7. Other Models\n",
    "8. Results"
   ]
  },
  {
   "attachments": {},
   "cell_type": "markdown",
   "metadata": {},
   "source": [
    "# Libraries / Data Load"
   ]
  },
  {
   "cell_type": "code",
   "execution_count": 1,
   "metadata": {},
   "outputs": [],
   "source": [
    "import pandas as pd\n",
    "import numpy as np\n",
    "import seaborn as sns\n",
    "\n",
    "import re\n",
    "import os\n",
    "import random\n",
    "\n",
    "from langdetect import detect\n",
    "from collections import Counter\n",
    "\n",
    "import nltk\n",
    "import spacy\n",
    "import wordcloud\n",
    "\n",
    "from sklearn.model_selection import train_test_split\n",
    "from sklearn.pipeline import Pipeline\n",
    "from sklearn.model_selection import GridSearchCV\n",
    "from sklearn.feature_extraction.text import CountVectorizer\n",
    "from sklearn.feature_extraction.text import TfidfTransformer\n",
    "\n",
    "\n",
    "from sklearn.linear_model import LogisticRegression\n",
    "from sklearn.ensemble import RandomForestClassifier\n",
    "\n",
    "from sklearn.metrics import f1_score"
   ]
  },
  {
   "cell_type": "code",
   "execution_count": 2,
   "metadata": {},
   "outputs": [],
   "source": [
    "random.seed(42)"
   ]
  },
  {
   "cell_type": "code",
   "execution_count": 3,
   "metadata": {},
   "outputs": [],
   "source": [
    "local_path = './datasets/toxic_comments.csv'\n",
    "web_path = '/datasets/toxic_comments.csv'\n",
    "\n",
    "if os.path.exists(local_path):\n",
    "  df = pd.read_csv(local_path, index_col=0)\n",
    "elif os.path.exists(web_path):\n",
    "  df = pd.read_csv(web_path, index_col=0)"
   ]
  },
  {
   "cell_type": "code",
   "execution_count": 4,
   "metadata": {},
   "outputs": [
    {
     "data": {
      "text/html": [
       "<div>\n",
       "<style scoped>\n",
       "    .dataframe tbody tr th:only-of-type {\n",
       "        vertical-align: middle;\n",
       "    }\n",
       "\n",
       "    .dataframe tbody tr th {\n",
       "        vertical-align: top;\n",
       "    }\n",
       "\n",
       "    .dataframe thead th {\n",
       "        text-align: right;\n",
       "    }\n",
       "</style>\n",
       "<table border=\"1\" class=\"dataframe\">\n",
       "  <thead>\n",
       "    <tr style=\"text-align: right;\">\n",
       "      <th></th>\n",
       "      <th>text</th>\n",
       "      <th>toxic</th>\n",
       "    </tr>\n",
       "  </thead>\n",
       "  <tbody>\n",
       "    <tr>\n",
       "      <th>123153</th>\n",
       "      <td>\"\\n\\n RE: \\nWhat I was trying to do is show hi...</td>\n",
       "      <td>0</td>\n",
       "    </tr>\n",
       "    <tr>\n",
       "      <th>33235</th>\n",
       "      <td>\"\\n\\nDates\\nYou wrote \"\"Rationalise non-US dat...</td>\n",
       "      <td>0</td>\n",
       "    </tr>\n",
       "    <tr>\n",
       "      <th>106324</th>\n",
       "      <td>that's as far as my civility stretches, pal! I...</td>\n",
       "      <td>0</td>\n",
       "    </tr>\n",
       "    <tr>\n",
       "      <th>157554</th>\n",
       "      <td>Its been months now\\n\\nLook Ben, I started by ...</td>\n",
       "      <td>0</td>\n",
       "    </tr>\n",
       "    <tr>\n",
       "      <th>58323</th>\n",
       "      <td>\"\\n\\n Solution \\n\\nThis is save Venice, and I ...</td>\n",
       "      <td>0</td>\n",
       "    </tr>\n",
       "  </tbody>\n",
       "</table>\n",
       "</div>"
      ],
      "text/plain": [
       "                                                     text  toxic\n",
       "123153  \"\\n\\n RE: \\nWhat I was trying to do is show hi...      0\n",
       "33235   \"\\n\\nDates\\nYou wrote \"\"Rationalise non-US dat...      0\n",
       "106324  that's as far as my civility stretches, pal! I...      0\n",
       "157554  Its been months now\\n\\nLook Ben, I started by ...      0\n",
       "58323   \"\\n\\n Solution \\n\\nThis is save Venice, and I ...      0"
      ]
     },
     "execution_count": 4,
     "metadata": {},
     "output_type": "execute_result"
    }
   ],
   "source": [
    "df.sample(5)"
   ]
  },
  {
   "attachments": {},
   "cell_type": "markdown",
   "metadata": {},
   "source": [
    "# Exploratory Analysis"
   ]
  },
  {
   "attachments": {},
   "cell_type": "markdown",
   "metadata": {},
   "source": [
    "- Good Link\n",
    "- Exploritory Data Analysis for NLP\n",
    "- https://neptune.ai/blog/exploratory-data-analysis-natural-language-processing-tools"
   ]
  },
  {
   "cell_type": "code",
   "execution_count": 5,
   "metadata": {},
   "outputs": [
    {
     "name": "stdout",
     "output_type": "stream",
     "text": [
      "<class 'pandas.core.frame.DataFrame'>\n",
      "Index: 159292 entries, 0 to 159450\n",
      "Data columns (total 2 columns):\n",
      " #   Column  Non-Null Count   Dtype \n",
      "---  ------  --------------   ----- \n",
      " 0   text    159292 non-null  object\n",
      " 1   toxic   159292 non-null  int64 \n",
      "dtypes: int64(1), object(1)\n",
      "memory usage: 3.6+ MB\n"
     ]
    }
   ],
   "source": [
    "df.info()"
   ]
  },
  {
   "cell_type": "code",
   "execution_count": 6,
   "metadata": {},
   "outputs": [
    {
     "data": {
      "text/plain": [
       "<Axes: >"
      ]
     },
     "execution_count": 6,
     "metadata": {},
     "output_type": "execute_result"
    },
    {
     "data": {
      "image/png": "[encoded data removed]",
      "text/plain": [
       "<Figure size 640x480 with 1 Axes>"
      ]
     },
     "metadata": {},
     "output_type": "display_data"
    }
   ],
   "source": [
    "df.text.str.len().hist()"
   ]
  },
  {
   "attachments": {},
   "cell_type": "markdown",
   "metadata": {},
   "source": [
    "Most Text contain less than 200 characters"
   ]
  },
  {
   "cell_type": "code",
   "execution_count": 7,
   "metadata": {},
   "outputs": [
    {
     "data": {
      "text/plain": [
       "<Axes: >"
      ]
     },
     "execution_count": 7,
     "metadata": {},
     "output_type": "execute_result"
    },
    {
     "data": {
      "image/png": "[encoded data removed]",
      "text/plain": [
       "<Figure size 640x480 with 1 Axes>"
      ]
     },
     "metadata": {},
     "output_type": "display_data"
    }
   ],
   "source": [
    "df.text.str.split().map(lambda x: len(x)).hist()"
   ]
  },
  {
   "attachments": {},
   "cell_type": "markdown",
   "metadata": {},
   "source": [
    "A lot of texts contain less than 400 words"
   ]
  },
  {
   "cell_type": "code",
   "execution_count": 8,
   "metadata": {},
   "outputs": [
    {
     "data": {
      "text/plain": [
       "<Axes: >"
      ]
     },
     "execution_count": 8,
     "metadata": {},
     "output_type": "execute_result"
    },
    {
     "data": {
      "image/png": "[encoded data removed]",
      "text/plain": [
       "<Figure size 640x480 with 1 Axes>"
      ]
     },
     "metadata": {},
     "output_type": "display_data"
    }
   ],
   "source": [
    "df.text.str.split().apply(lambda x: [len(i) for i in x]).map(lambda x: np.mean(x)).hist()"
   ]
  },
  {
   "attachments": {},
   "cell_type": "markdown",
   "metadata": {},
   "source": [
    "По этому графику видно что длина слов иммеет выбросы в данных."
   ]
  },
  {
   "cell_type": "code",
   "execution_count": 9,
   "metadata": {},
   "outputs": [
    {
     "name": "stdout",
     "output_type": "stream",
     "text": [
      "Languages found in dataframe:\n",
      "['en' 'so' 'sv' 'fr' 'tr' 'de' 'tl' 'nl' 'sk' 'et' 'fi' 'da' 'af' 'es'\n",
      " 'hr']\n"
     ]
    }
   ],
   "source": [
    "def safe_detect(text):\n",
    "    try:\n",
    "        return detect(text)\n",
    "    except:\n",
    "        return '--'\n",
    "\n",
    "languages = df.text.sample(1000).apply(lambda x: safe_detect(x))\n",
    "unique_languages = languages.unique()\n",
    "\n",
    "print(\"Languages found in dataframe:\")\n",
    "print(unique_languages)"
   ]
  },
  {
   "attachments": {},
   "cell_type": "markdown",
   "metadata": {},
   "source": [
    "A lot of different languages"
   ]
  },
  {
   "cell_type": "code",
   "execution_count": null,
   "metadata": {},
   "outputs": [],
   "source": [
    "stop = set(nltk.corpus.stopwords.words('english'))\n",
    "\n",
    "counter_toxic = Counter(\n",
    "    np.concatenate(\n",
    "        df[df.toxic == 1].text\\\n",
    "            .sample(1000).str.lower()\\\n",
    "                .str.split().values))\n",
    "most = counter_toxic.most_common()\n",
    "\n",
    "x, y = [], []\n",
    "for word, count in most[:40]:\n",
    "    if word not in stop:\n",
    "        x.append(word)\n",
    "        y.append(count)\n",
    "sns.barplot(x=y, y=x)"
   ]
  },
  {
   "attachments": {},
   "cell_type": "markdown",
   "metadata": {},
   "source": [
    "# Data Preprocessing"
   ]
  },
  {
   "attachments": {},
   "cell_type": "markdown",
   "metadata": {},
   "source": [
    "- Useful Post https://www.datacamp.com/tutorial/stemming-lemmatization-python\n",
    "\n",
    "- Simple language preprocessing.\n",
    "  - Remove all characters.\n",
    "  - Tokenize the text.\n",
    "  - Lemmatize the text.\n",
    "  - Build bag of words."
   ]
  },
  {
   "cell_type": "code",
   "execution_count": 11,
   "metadata": {},
   "outputs": [],
   "source": [
    "pattern_numbers_characters = r'[\\d\\W]'\n",
    "df['text'] = df['text'].str.lower().str.replace(pattern_numbers_characters, ' ', regex=True)"
   ]
  },
  {
   "cell_type": "code",
   "execution_count": 12,
   "metadata": {},
   "outputs": [
    {
     "data": {
      "text/html": [
       "<div>\n",
       "<style scoped>\n",
       "    .dataframe tbody tr th:only-of-type {\n",
       "        vertical-align: middle;\n",
       "    }\n",
       "\n",
       "    .dataframe tbody tr th {\n",
       "        vertical-align: top;\n",
       "    }\n",
       "\n",
       "    .dataframe thead th {\n",
       "        text-align: right;\n",
       "    }\n",
       "</style>\n",
       "<table border=\"1\" class=\"dataframe\">\n",
       "  <thead>\n",
       "    <tr style=\"text-align: right;\">\n",
       "      <th></th>\n",
       "      <th>text</th>\n",
       "      <th>toxic</th>\n",
       "    </tr>\n",
       "  </thead>\n",
       "  <tbody>\n",
       "    <tr>\n",
       "      <th>0</th>\n",
       "      <td>explanation why the edits made under my userna...</td>\n",
       "      <td>0</td>\n",
       "    </tr>\n",
       "    <tr>\n",
       "      <th>1</th>\n",
       "      <td>d aww  he matches this background colour i m s...</td>\n",
       "      <td>0</td>\n",
       "    </tr>\n",
       "    <tr>\n",
       "      <th>2</th>\n",
       "      <td>hey man  i m really not trying to edit war  it...</td>\n",
       "      <td>0</td>\n",
       "    </tr>\n",
       "    <tr>\n",
       "      <th>3</th>\n",
       "      <td>more i can t make any real suggestions on im...</td>\n",
       "      <td>0</td>\n",
       "    </tr>\n",
       "    <tr>\n",
       "      <th>4</th>\n",
       "      <td>you  sir  are my hero  any chance you remember...</td>\n",
       "      <td>0</td>\n",
       "    </tr>\n",
       "  </tbody>\n",
       "</table>\n",
       "</div>"
      ],
      "text/plain": [
       "                                                text  toxic\n",
       "0  explanation why the edits made under my userna...      0\n",
       "1  d aww  he matches this background colour i m s...      0\n",
       "2  hey man  i m really not trying to edit war  it...      0\n",
       "3    more i can t make any real suggestions on im...      0\n",
       "4  you  sir  are my hero  any chance you remember...      0"
      ]
     },
     "execution_count": 12,
     "metadata": {},
     "output_type": "execute_result"
    }
   ],
   "source": [
    "df.head()"
   ]
  },
  {
   "cell_type": "code",
   "execution_count": 13,
   "metadata": {},
   "outputs": [],
   "source": [
    "nlp = spacy.load('en_core_web_sm')\n",
    "def lemma_clear(text): \n",
    "      \n",
    "    lemm = nlp(text) \n",
    "    lemm = \" \".join([token.lemma_ for token in lemm])  \n",
    "    return \" \".join(lemm.split())"
   ]
  },
  {
   "cell_type": "code",
   "execution_count": 14,
   "metadata": {},
   "outputs": [
    {
     "name": "stdout",
     "output_type": "stream",
     "text": [
      "CPU times: user 36min 2s, sys: 29 s, total: 36min 31s\n",
      "Wall time: 36min 34s\n"
     ]
    }
   ],
   "source": [
    "%%time\n",
    "\n",
    "df['text'] = df['text'].apply(lambda x: lemma_clear(x))"
   ]
  },
  {
   "cell_type": "code",
   "execution_count": 15,
   "metadata": {},
   "outputs": [],
   "source": [
    "train, test = train_test_split(df, test_size=0.4, random_state=0)"
   ]
  },
  {
   "cell_type": "code",
   "execution_count": 16,
   "metadata": {},
   "outputs": [],
   "source": [
    "valid, test = train_test_split(test, test_size=0.5, random_state=0)"
   ]
  },
  {
   "attachments": {},
   "cell_type": "markdown",
   "metadata": {},
   "source": [
    "# Hyperparameter tunning"
   ]
  },
  {
   "cell_type": "code",
   "execution_count": 17,
   "metadata": {},
   "outputs": [
    {
     "name": "stdout",
     "output_type": "stream",
     "text": [
      "CPU times: user 28.5 s, sys: 3.43 s, total: 31.9 s\n",
      "Wall time: 7min 59s\n"
     ]
    },
    {
     "data": {
      "text/plain": [
       "0.7816052359627971"
      ]
     },
     "execution_count": 17,
     "metadata": {},
     "output_type": "execute_result"
    }
   ],
   "source": [
    "%%time\n",
    "\n",
    "params={'model__C':[.01,.05,.1,.5,1,5,10],\n",
    "           'model__penalty':['l2']}\n",
    "pipeline = Pipeline([\n",
    "    ('vect', CountVectorizer(min_df=40,ngram_range=(1,4))),\n",
    "    ('tfidf', TfidfTransformer()),\n",
    "    ('model', LogisticRegression(max_iter=1000))])\n",
    "grid_lr = GridSearchCV(pipeline, cv=5, n_jobs=-1, param_grid=params, scoring='f1')\n",
    "grid_lr.fit(train['text'], train['toxic'])\n",
    "grid_lr.score(valid['text'], valid['toxic'])"
   ]
  },
  {
   "cell_type": "code",
   "execution_count": 18,
   "metadata": {},
   "outputs": [
    {
     "name": "stdout",
     "output_type": "stream",
     "text": [
      "CPU times: user 1min 12s, sys: 2.19 s, total: 1min 14s\n",
      "Wall time: 5min 55s\n"
     ]
    },
    {
     "data": {
      "text/plain": [
       "0.5641249726895347"
      ]
     },
     "execution_count": 18,
     "metadata": {},
     "output_type": "execute_result"
    }
   ],
   "source": [
    "%%time\n",
    "\n",
    "params={'model__n_estimators': [50, 100], 'model__max_depth': [50, 100]}\n",
    "pipeline = Pipeline([\n",
    "    ('vect', CountVectorizer(min_df=40, ngram_range=(1,4))),\n",
    "    ('tfidf', TfidfTransformer()),\n",
    "    ('model', RandomForestClassifier())])\n",
    "grid_rfc = GridSearchCV(pipeline, cv=5, n_jobs=-1, param_grid=params, scoring='f1')\n",
    "grid_rfc.fit(train['text'], train['toxic'])\n",
    "grid_rfc.score(valid['text'], valid['toxic'])"
   ]
  },
  {
   "cell_type": "code",
   "execution_count": null,
   "metadata": {},
   "outputs": [],
   "source": []
  },
  {
   "attachments": {},
   "cell_type": "markdown",
   "metadata": {},
   "source": [
    "# Results"
   ]
  },
  {
   "cell_type": "code",
   "execution_count": 19,
   "metadata": {},
   "outputs": [
    {
     "data": {
      "text/plain": [
       "0.7650551314673453"
      ]
     },
     "execution_count": 19,
     "metadata": {},
     "output_type": "execute_result"
    }
   ],
   "source": [
    "z_test = grid_lr.predict(test['text'])\n",
    "f1_score(test['toxic'], z_test)"
   ]
  },
  {
   "cell_type": "code",
   "execution_count": null,
   "metadata": {},
   "outputs": [],
   "source": []
  }
 ],
 "metadata": {
  "kernelspec": {
   "display_name": "Python 3",
   "language": "python",
   "name": "python3"
  },
  "language_info": {
   "codemirror_mode": {
    "name": "ipython",
    "version": 3
   },
   "file_extension": ".py",
   "mimetype": "text/x-python",
   "name": "python",
   "nbconvert_exporter": "python",
   "pygments_lexer": "ipython3",
   "version": "3.11.3"
  },
  "orig_nbformat": 4
 },
 "nbformat": 4,
 "nbformat_minor": 2
}
